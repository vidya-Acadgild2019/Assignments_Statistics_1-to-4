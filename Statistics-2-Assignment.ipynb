{
 "cells": [
  {
   "cell_type": "markdown",
   "metadata": {},
   "source": [
    "Problem Statement: STATISTICS 2"
   ]
  },
  {
   "cell_type": "code",
   "execution_count": 1,
   "metadata": {},
   "outputs": [],
   "source": [
    "import math\n",
    "from decimal import Decimal"
   ]
  },
  {
   "cell_type": "markdown",
   "metadata": {},
   "source": [
    "### Problem-1\n",
    "A test is conducted which is consisting of 20 MCQs (multiple choices questions) with\n",
    "every MCQ having its four options out of which only one is correct. Determine the\n",
    "probability that a person undertaking that test has answered exactly 5 questions wrong."
   ]
  },
  {
   "cell_type": "code",
   "execution_count": 20,
   "metadata": {},
   "outputs": [
    {
     "name": "stdout",
     "output_type": "stream",
     "text": [
      "The probability of answering exactly 5 questions wrongly is: 0.00000343\n"
     ]
    }
   ],
   "source": [
    "''''SOLUTION:\n",
    "\n",
    "The probability of getting a right answer =  1/4\n",
    "Total number of  questions = 20\n",
    "Desirable number of wrongly answered questions = 5\n",
    "\n",
    "According to Binomial distribution:\n",
    "\n",
    "P(x) = nCx * p^x * (1 – q)^(n – x) \n",
    "\n",
    "P(x)  \tthe probability of x successes in n independent trials\n",
    "p^x   \tthe probability of a success on each of x trials\n",
    "q^(n-x)\tthe probability of a failure on the remaining trials\n",
    "n\ttotal no.of independent trials\n",
    "x\ttotal no.of successful trials\n",
    "p\tthe probability of success in a single trial\n",
    "q\tthe probability of failure in a single trial\n",
    "\n",
    "In the given case:\n",
    "p = 3/4 \n",
    "q = 1/4 = (1-p)\n",
    "n = 20\n",
    "x = 5 '''\n",
    "\n",
    "#define function to calculate the cobination of r elements from n elements\n",
    "def nCr(n,r):\n",
    "    f = math.factorial\n",
    "    return f(n) / f(r) / f(n-r)\n",
    "\n",
    "# Defining a function Bin_prob() to find the probability using binomial distribution theorem taking p,q,n,x as arguments\n",
    "def Bin_prob(p,q,n,x):\n",
    "    return round(Decimal(nCr(n,x)*(p)**x*(q)**(n-x)),8)\n",
    "\n",
    "p = 3/4\n",
    "q = 1/4\n",
    "n = 20\n",
    "x = 5\n",
    "print(\"The probability of answering exactly 5 questions wrongly is:\",Bin_prob(p,q,n,x))"
   ]
  },
  {
   "cell_type": "markdown",
   "metadata": {},
   "source": [
    "### Problem-2\n",
    "A die marked A to E is rolled 50 times. Find the probability of getting a “D” exactly 5\n",
    "times."
   ]
  },
  {
   "cell_type": "code",
   "execution_count": 19,
   "metadata": {},
   "outputs": [
    {
     "name": "stdout",
     "output_type": "stream",
     "text": [
      "The probability of getting a “D” exactly 5 times is: 0.02953120\n"
     ]
    }
   ],
   "source": [
    "'''\n",
    "The probability of getting a D on a given throw = 1/5\n",
    "The probability of getting a non-D on a given throw = [1-(1/5)] = 4/5\n",
    "Total number of  trials = 50\n",
    "Desirable number of successful trials = 5\n",
    "\n",
    "According to Binomial distribution:\n",
    "\n",
    "P(x) = nCx * p^x * (1 – p)^(n – x) \n",
    "\n",
    "P(x)  \tthe probability of x successes in n independent trials\n",
    "p^x   \tthe probability of a successes on each of x trials\n",
    "q^(n-x)\tthe probability of a failure on the remaining trials\n",
    "n\ttotal no.of independent trials\n",
    "x\ttotal no.of successful trials\n",
    "p\tthe probability of success in a single trial\n",
    "q\tthe probability of failure in a single trial\n",
    "\n",
    "In the given case:\n",
    "p = 1/5\n",
    "q = 4/5\n",
    "n = 50\n",
    "x = 5 '''\n",
    "\n",
    "#define function to calculate the cobination of r elements from n elements\n",
    "def nCr(n,r):\n",
    "    f = math.factorial\n",
    "    return f(n) / f(r) / f(n-r)\n",
    "\n",
    "# Defining a function Bin_prob() to find the probability using binomial distribution theorem taking p,q,n,x as arguments\n",
    "def Bin_prob(p,q,n,x):\n",
    "    return round(Decimal(nCr(n,x)*(p)**x*(q)**(n-x)),8)\n",
    "\n",
    "p = 1/5\n",
    "q = 4/5\n",
    "n = 50\n",
    "x = 5\n",
    "\n",
    "print(\"The probability of getting a “D” exactly 5 times is:\",Bin_prob(p,q,n,x))"
   ]
  },
  {
   "cell_type": "markdown",
   "metadata": {},
   "source": [
    "### Problem-3\n",
    "Two balls are drawn at random in succession without replacement from an urn\n",
    "containing 4 red balls and 6 black balls.\n",
    "Find the probabilities of all the possible outcomes."
   ]
  },
  {
   "cell_type": "code",
   "execution_count": 22,
   "metadata": {},
   "outputs": [
    {
     "name": "stdout",
     "output_type": "stream",
     "text": [
      "1: Probability of drawing two Red balls(RR): 0.133\n",
      "2: Probability of drawing one Red and one Black ball(RB or BR): 0.533\n",
      "3: Probability of drawing two Black balls(BB): 0.333\n",
      "\n",
      "2.1: If the balls drawn are (RB) then probability =  0.267\n",
      "2.2: If the balls drawn are (BR) then probability =  0.267\n"
     ]
    }
   ],
   "source": [
    "''''\n",
    "Total no.of Black Balls = 6\n",
    "Total no.of Red balls = 4\n",
    "Total no.of balls = (6+4) = 10\n",
    "Possible outcomes = (RR),(RB),(BR),(BB)\n",
    "Total possibilities in two turns = 10C2 \n",
    "\n",
    "P1-FIRST POSSIBILITY : Two Red Balls(RR)\n",
    "\n",
    "No.of favourable outcomes = 4C2\n",
    "Total no.of outcomes =10C2\n",
    "\n",
    "P2-SECOND POSSIBILITY : One red and One black ball(RB or BR)\n",
    "\n",
    "No.of favourable outcomes = 4C1*6C1\n",
    "Total no.of outcomes = 10C2\n",
    "\n",
    "P3-THIRD POSSIBILITY : Two Black Balls(BB)\n",
    "\n",
    "No.of favourable outcomes = 6C2\n",
    "Total no.of outcomes = 10C2 '''\n",
    "\n",
    "#define function to calculate the cobination of r elements from n elements\n",
    "def nCr(n,r):\n",
    "    f = math.factorial\n",
    "    return f(n) / f(r) / f(n-r)\n",
    "\n",
    "P1 = nCr(4,2)/nCr(10,2)\n",
    "P2 = nCr(4,1)*nCr(6,1)/nCr(10,2)\n",
    "P3 = nCr(6,2)/nCr(10,2)\n",
    "\n",
    "print(\"1: Probability of drawing two Red balls(RR):\",round(P1,3))\n",
    "print(\"2: Probability of drawing one Red and one Black ball(RB or BR):\",round(P2,3))\n",
    "print(\"3: Probability of drawing two Black balls(BB):\",round(P3,3))\n",
    "\n",
    "P2i = 4/10*6/9\n",
    "P2ii = 6/10*4/9\n",
    "\n",
    "print(\"\\n2.1: If the balls drawn are (RB) then probability = \",round(P2i,3))\n",
    "print(\"2.2: If the balls drawn are (BR) then probability = \",round(P2ii,3))"
   ]
  }
 ],
 "metadata": {
  "kernelspec": {
   "display_name": "Python 3",
   "language": "python",
   "name": "python3"
  },
  "language_info": {
   "codemirror_mode": {
    "name": "ipython",
    "version": 3
   },
   "file_extension": ".py",
   "mimetype": "text/x-python",
   "name": "python",
   "nbconvert_exporter": "python",
   "pygments_lexer": "ipython3",
   "version": "3.7.1"
  }
 },
 "nbformat": 4,
 "nbformat_minor": 2
}
