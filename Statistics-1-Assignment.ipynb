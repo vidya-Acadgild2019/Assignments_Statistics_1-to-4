{
 "cells": [
  {
   "cell_type": "code",
   "execution_count": 49,
   "metadata": {},
   "outputs": [],
   "source": [
    "import math"
   ]
  },
  {
   "cell_type": "markdown",
   "metadata": {},
   "source": [
    "2.1. Problem Statement: STATISTICS 1"
   ]
  },
  {
   "cell_type": "raw",
   "metadata": {},
   "source": [
    "Problem-1\n",
    "You survey households in your area to find the average rent they are paying. Find the\n",
    "standard deviation from the following data:\n",
    "$1550, $1700, $900, $850, $1000, $950."
   ]
  },
  {
   "cell_type": "code",
   "execution_count": 50,
   "metadata": {},
   "outputs": [
    {
     "name": "stdout",
     "output_type": "stream",
     "text": [
      "Standard Deviation: 367.99004062610175\n"
     ]
    }
   ],
   "source": [
    "#define the function to calculate the mean\n",
    "def mean(x):\n",
    "    return sum(x) / len(x)\n",
    "\n",
    "#define the function to calculate the variance\n",
    "def variance(x):\n",
    "    n = len(x)\n",
    "    x_bar = mean(x)\n",
    "    return(round(sum((x_i - x_bar)**2 for x_i in x) / (n - 1), 2))\n",
    "\n",
    "#define the function to calculate the standard_deviation\n",
    "def standard_deviation(x):\n",
    "     return(math.sqrt(variance(x)))\n",
    "    \n",
    "data = [1550, 1700, 900, 850, 1000, 950]\n",
    "print(\"Standard Deviation:\",standard_deviation(data))\n"
   ]
  },
  {
   "cell_type": "markdown",
   "metadata": {},
   "source": [
    "### Problem-2\n",
    "Find the variance for the following set of data representing trees in California (heights in\n",
    "feet):\n",
    "3, 21, 98, 203, 17, 9"
   ]
  },
  {
   "cell_type": "code",
   "execution_count": 51,
   "metadata": {},
   "outputs": [
    {
     "name": "stdout",
     "output_type": "stream",
     "text": [
      "Variance: 6219.9\n"
     ]
    }
   ],
   "source": [
    "#define the function to calculate the mean\n",
    "def mean(x):\n",
    "    return sum(x) / len(x)\n",
    "\n",
    "#define the function to calculate the variance\n",
    "def variance(x):\n",
    "    n = len(x)\n",
    "    x_bar = mean(x)\n",
    "    return(round(sum((x_i - x_bar)**2 for x_i in x) / (n - 1), 2))\n",
    "\n",
    "lst_2 = [3, 21, 98, 203, 17, 9]\n",
    "print(\"Variance:\",variance(lst_2) )"
   ]
  },
  {
   "cell_type": "markdown",
   "metadata": {},
   "source": [
    "### Problem-3\n",
    "In a class on 100 students, 80 students passed in all subjects, 10 failed in one subject, 7\n",
    "failed in two subjects and 3 failed in three subjects. Find the probability distribution of\n",
    "the variable for number of subjects a student from the given class has failed in."
   ]
  },
  {
   "cell_type": "code",
   "execution_count": 53,
   "metadata": {},
   "outputs": [
    {
     "name": "stdout",
     "output_type": "stream",
     "text": [
      "The probability distribution for a random student :\n",
      " --------------------------------------------------\n",
      "P(X=0) = 0.8\n",
      "P(X=1) = 0.1\n",
      "P(X=2) = 0.07\n",
      "P(X=3) = 0.03\n"
     ]
    }
   ],
   "source": [
    "'''    \n",
    "    Total number of students = 100\n",
    "    Probability of failing in 0 subjects = 80/100 = 0.8 (Since 80 students have passed in all the subjects)\n",
    "    Probability of failing in 1 subject  = 10/100 = 0.1  (Given)\n",
    "    Probability of failing in 2 subjects = 7/100  = 0.07 (Given)\n",
    "    Probability of failing in 3 subjects = 3/100  = 0.03 (Given)\n",
    "'''\n",
    "data = [80,10,7,3]\n",
    "sample_space = 100\n",
    "def event_probability(event_outcomes, sample_space):\n",
    "        probability = (event_outcomes / sample_space)\n",
    "        return round(probability,2)\n",
    "    \n",
    "print(\"The probability distribution for a random student :\\n\",\"-\"*50)\n",
    "for i in data:\n",
    "    print(\"P(X={}) = {}\".format(data.index(i),event_probability(i,sample_space)))"
   ]
  }
 ],
 "metadata": {
  "kernelspec": {
   "display_name": "Python 3",
   "language": "python",
   "name": "python3"
  },
  "language_info": {
   "codemirror_mode": {
    "name": "ipython",
    "version": 3
   },
   "file_extension": ".py",
   "mimetype": "text/x-python",
   "name": "python",
   "nbconvert_exporter": "python",
   "pygments_lexer": "ipython3",
   "version": "3.7.1"
  }
 },
 "nbformat": 4,
 "nbformat_minor": 2
}
